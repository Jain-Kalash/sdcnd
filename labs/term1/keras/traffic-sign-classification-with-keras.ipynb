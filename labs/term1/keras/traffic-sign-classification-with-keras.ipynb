{
 "cells": [
  {
   "cell_type": "markdown",
   "metadata": {},
   "source": [
    "# Traffic Sign Classification with Keras\n",
    "\n",
    "Keras exists to make coding deep neural networks simpler. To demonstrate just how easy it is, you’re going to use Keras to build a convolutional neural network in a few dozen lines of code.\n",
    "\n",
    "You’ll be connecting the concepts from the previous lessons to the methods that Keras provides."
   ]
  },
  {
   "cell_type": "markdown",
   "metadata": {},
   "source": [
    "## Dataset\n",
    "\n",
    "The network you'll build with Keras is similar to the example that you can find in Keras’s GitHub repository that builds out a [convolutional neural network for MNIST](https://github.com/fchollet/keras/blob/master/examples/mnist_cnn.py). \n",
    "\n",
    "However, instead of using the [MNIST](http://yann.lecun.com/exdb/mnist/) dataset, you're going to use the [German Traffic Sign Recognition Benchmark](http://benchmark.ini.rub.de/?section=gtsrb&subsection=news) dataset that you've used previously.\n",
    "\n",
    "You can download pickle files with sanitized traffic sign data here."
   ]
  },
  {
   "cell_type": "markdown",
   "metadata": {},
   "source": [
    "## Overview\n",
    "\n",
    "Here are the steps you'll take to build the network:\n",
    "\n",
    "1. First load the training data and do a train/validation split.\n",
    "2. Preprocess data.\n",
    "3. Build a feedforward neural network to classify traffic signs.\n",
    "4. Build a convolutional neural network to classify traffic signs.\n",
    "5. Evaluate performance of final neural network on testing data.\n",
    "\n",
    "Keep an eye on the network’s accuracy over time. Once the accuracy reaches the 98% range, you can be confident that you’ve built and trained an effective model."
   ]
  },
  {
   "cell_type": "code",
   "execution_count": 1,
   "metadata": {
    "collapsed": false
   },
   "outputs": [
    {
     "name": "stderr",
     "output_type": "stream",
     "text": [
      "Using TensorFlow backend.\n"
     ]
    }
   ],
   "source": [
    "# Import utilities\n",
    "import pickle\n",
    "\n",
    "# Import math libs\n",
    "import numpy as np\n",
    "import math\n",
    "\n",
    "# Import deep learning libs\n",
    "import keras\n",
    "from keras.models import Sequential\n",
    "from keras.layers.core import Dense, Dropout, Activation\n",
    "from keras.optimizers import SGD, Adam, RMSprop\n",
    "from keras.utils import np_utils\n",
    "from sklearn.model_selection import train_test_split"
   ]
  },
  {
   "cell_type": "markdown",
   "metadata": {},
   "source": [
    "## Load the Data\n",
    "\n",
    "Start by importing the data from the pickle file."
   ]
  },
  {
   "cell_type": "code",
   "execution_count": 2,
   "metadata": {
    "collapsed": false
   },
   "outputs": [
    {
     "name": "stdout",
     "output_type": "stream",
     "text": [
      "Data loaded from pickle\n"
     ]
    }
   ],
   "source": [
    "# load the data\n",
    "with open('train.p', 'rb') as f:\n",
    "    train = pickle.load(f)\n",
    "\n",
    "print (\"Data loaded from pickle\")"
   ]
  },
  {
   "cell_type": "markdown",
   "metadata": {},
   "source": [
    "## Validate the Network\n",
    "Split the training data into a training and validation set.\n",
    "\n",
    "Measure the [validation accuracy](https://keras.io/models/sequential/) of the network after two training epochs.\n",
    "\n",
    "Hint: [Use the `train_test_split()` method](http://scikit-learn.org/stable/modules/generated/sklearn.model_selection.train_test_split.html) from scikit-learn."
   ]
  },
  {
   "cell_type": "code",
   "execution_count": 3,
   "metadata": {
    "collapsed": false
   },
   "outputs": [],
   "source": [
    "# Split the data\n",
    "X_train, X_val, y_train, y_val = train_test_split(train['features'], train['labels'], test_size=0.20, random_state = 42)\n",
    "\n",
    "# Free up the memory\n",
    "del train"
   ]
  },
  {
   "cell_type": "code",
   "execution_count": 4,
   "metadata": {
    "collapsed": true
   },
   "outputs": [],
   "source": [
    "# STOP: Do not change the tests below. Your implementation should pass these tests. \n",
    "assert(X_train.shape[0] == y_train.shape[0]), \"The number of images is not equal to the number of labels.\"\n",
    "assert(X_train.shape[1:] == (32,32,3)), \"The dimensions of the images are not 32 x 32 x 3.\"\n",
    "assert(X_val.shape[0] == y_val.shape[0]), \"The number of images is not equal to the number of labels.\"\n",
    "assert(X_val.shape[1:] == (32,32,3)), \"The dimensions of the images are not 32 x 32 x 3.\""
   ]
  },
  {
   "cell_type": "code",
   "execution_count": 5,
   "metadata": {
    "collapsed": false
   },
   "outputs": [
    {
     "name": "stdout",
     "output_type": "stream",
     "text": [
      "Number of classes = 43\n",
      "Size of each image = (32, 32)\n",
      "Number of channels in each image = 3\n",
      "Number of training samples = 31367\n",
      "Number of validation samples = 7842\n"
     ]
    }
   ],
   "source": [
    "num_classes = len(set(y_train))\n",
    "img_size = (X_train.shape[1], X_train.shape[2])\n",
    "num_channels = X_train.shape[3]\n",
    "n_train = X_train.shape[0]\n",
    "n_val = X_val.shape[0]\n",
    "\n",
    "print(\"Number of classes = {}\".format(num_classes))\n",
    "print(\"Size of each image = {}\".format(img_size))\n",
    "print(\"Number of channels in each image = {}\".format(num_channels))\n",
    "print(\"Number of training samples = {}\".format(n_train))\n",
    "print(\"Number of validation samples = {}\".format(n_val))"
   ]
  },
  {
   "cell_type": "markdown",
   "metadata": {},
   "source": [
    "## Preprocess the Data\n",
    "\n",
    "Now that you've loaded the training data, preprocess the data such that it's in the range between -0.5 and 0.5."
   ]
  },
  {
   "cell_type": "code",
   "execution_count": 6,
   "metadata": {
    "collapsed": false
   },
   "outputs": [
    {
     "name": "stdout",
     "output_type": "stream",
     "text": [
      "Training flattened features = (31367, 3072), original features = (31367, 32, 32, 3), labels = (31367, 43)\n",
      "Validation flattened features = (7842, 3072), original features = (7842, 32, 32, 3), labels = (7842, 43)\n",
      "Data preprocessed\n"
     ]
    }
   ],
   "source": [
    "# Data normalization\n",
    "X_train = X_train.astype('float32')\n",
    "X_train = X_train / 255. - 0.5\n",
    "\n",
    "X_val = X_val.astype('float32')\n",
    "X_val = X_val / 255. - 0.5\n",
    "\n",
    "# One Hot encoding\n",
    "y_train = np_utils.to_categorical(y_train, num_classes)\n",
    "y_val = np_utils.to_categorical(y_val, num_classes)\n",
    "\n",
    "# Flatten the data\n",
    "X_flat_train = np.resize(X_train, (n_train, 32 * 32 * 3))\n",
    "X_flat_val = np.resize(X_val, (n_val, 32 * 32 * 3))\n",
    "\n",
    "print (\"Training flattened features = {}, original features = {}, labels = {}\".format(\n",
    "        X_flat_train.shape, X_train.shape, y_train.shape))\n",
    "print (\"Validation flattened features = {}, original features = {}, labels = {}\".format(\n",
    "        X_flat_val.shape, X_val.shape, y_val.shape))\n",
    "print (\"Data preprocessed\")"
   ]
  },
  {
   "cell_type": "code",
   "execution_count": 7,
   "metadata": {
    "collapsed": false
   },
   "outputs": [],
   "source": [
    "# STOP: Do not change the tests below. Your implementation should pass these tests. \n",
    "assert(math.isclose(np.min(X_train), -0.5, abs_tol=1e-5) and math.isclose(np.max(X_train), 0.5, abs_tol=1e-5)), \"The range of the training data is: %.1f to %.1f\" % (np.min(X_train), np.max(X_train))\n",
    "assert(math.isclose(np.min(X_val), -0.5, abs_tol=1e-5) and math.isclose(np.max(X_val), 0.5, abs_tol=1e-5)), \"The range of the validation data is: %.1f to %.1f\" % (np.min(X_val), np.max(X_val))"
   ]
  },
  {
   "cell_type": "markdown",
   "metadata": {},
   "source": [
    "## Build a Two-Layer Feedfoward Network\n",
    "\n",
    "The code you've written so far is for data processing, not specific to Keras. Here you're going to build Keras-specific code.\n",
    "\n",
    "Build a two-layer feedforward neural network, with 128 neurons in the fully-connected hidden layer. \n",
    "\n",
    "To get started, review the Keras documentation about [models](https://keras.io/models/sequential/) and [layers](https://keras.io/layers/core/).\n",
    "\n",
    "The Keras example of a [Multi-Layer Perceptron](https://github.com/fchollet/keras/blob/master/examples/mnist_mlp.py) network is similar to what you need to do here. Use that as a guide, but keep in mind that there are a number of differences."
   ]
  },
  {
   "cell_type": "code",
   "execution_count": 8,
   "metadata": {
    "collapsed": false
   },
   "outputs": [
    {
     "name": "stdout",
     "output_type": "stream",
     "text": [
      "____________________________________________________________________________________________________\n",
      "Layer (type)                     Output Shape          Param #     Connected to                     \n",
      "====================================================================================================\n",
      "dense_1 (Dense)                  (None, 128)           393344      dense_input_1[0][0]              \n",
      "____________________________________________________________________________________________________\n",
      "dense_2 (Dense)                  (None, 43)            5547        dense_1[0][0]                    \n",
      "====================================================================================================\n",
      "Total params: 398891\n",
      "____________________________________________________________________________________________________\n"
     ]
    }
   ],
   "source": [
    "model = Sequential()\n",
    "model.add(Dense(128, activation='relu', input_shape=(32*32*3,)))\n",
    "model.add(Dense(43, activation='softmax'))\n",
    "model.summary()"
   ]
  },
  {
   "cell_type": "code",
   "execution_count": 9,
   "metadata": {
    "collapsed": true
   },
   "outputs": [],
   "source": [
    "# STOP: Do not change the tests below. Your implementation should pass these tests.\n",
    "dense_layers = []\n",
    "for l in model.layers:\n",
    "    if type(l) == Dense:\n",
    "        dense_layers.append(l)\n",
    "assert(len(dense_layers) == 2), \"There should be 2 Dense layers.\"\n",
    "d1 = dense_layers[0]\n",
    "d2 = dense_layers[1]\n",
    "assert(d1.input_shape == (None, 3072))\n",
    "assert(d1.output_shape == (None, 128))\n",
    "assert(d2.input_shape == (None, 128))\n",
    "assert(d2.output_shape == (None, 43))\n",
    "\n",
    "last_layer = model.layers[-1]\n",
    "assert(last_layer.activation.__name__ == 'softmax'), \"Last layer should be softmax activation, is {}.\".format(last_layer.activation.__name__)"
   ]
  },
  {
   "cell_type": "markdown",
   "metadata": {},
   "source": [
    "## Train the Network\n",
    "Compile and train the network for 2 epochs. [Use the `adam` optimizer, with `categorical_crossentropy` loss.](https://keras.io/models/sequential/)\n",
    "\n",
    "Hint 1: In order to use categorical cross entropy, you will need to [one-hot encode the labels](https://github.com/fchollet/keras/blob/master/keras/utils/np_utils.py).\n",
    "\n",
    "Hint 2: In order to pass the input images to the fully-connected hidden layer, you will need to [reshape the input](https://github.com/fchollet/keras/blob/master/examples/mnist_mlp.py).\n",
    "\n",
    "Hint 3: Keras's `.fit()` method returns a `History.history` object, which the tests below use. Save that to a variable named `history`."
   ]
  },
  {
   "cell_type": "code",
   "execution_count": 10,
   "metadata": {
    "collapsed": false
   },
   "outputs": [
    {
     "name": "stdout",
     "output_type": "stream",
     "text": [
      "Train on 31367 samples, validate on 7842 samples\n",
      "Epoch 1/20\n",
      "31367/31367 [==============================] - 2s - loss: 1.7909 - acc: 0.5368 - val_loss: 1.1021 - val_acc: 0.6937\n",
      "Epoch 2/20\n",
      "31367/31367 [==============================] - 0s - loss: 0.8719 - acc: 0.7694 - val_loss: 0.9051 - val_acc: 0.7365\n",
      "Epoch 3/20\n",
      "31367/31367 [==============================] - 0s - loss: 0.6054 - acc: 0.8406 - val_loss: 0.6956 - val_acc: 0.7957\n",
      "Epoch 4/20\n",
      "31367/31367 [==============================] - 0s - loss: 0.4960 - acc: 0.8716 - val_loss: 0.5431 - val_acc: 0.8463\n",
      "Epoch 5/20\n",
      "31367/31367 [==============================] - 0s - loss: 0.4070 - acc: 0.8942 - val_loss: 0.4601 - val_acc: 0.8739\n",
      "Epoch 6/20\n",
      "31367/31367 [==============================] - 0s - loss: 0.3529 - acc: 0.9099 - val_loss: 0.4307 - val_acc: 0.8731\n",
      "Epoch 7/20\n",
      "31367/31367 [==============================] - 0s - loss: 0.3286 - acc: 0.9152 - val_loss: 0.4108 - val_acc: 0.8718\n",
      "Epoch 8/20\n",
      "31367/31367 [==============================] - 0s - loss: 0.2848 - acc: 0.9258 - val_loss: 0.3308 - val_acc: 0.9138\n",
      "Epoch 9/20\n",
      "31367/31367 [==============================] - 0s - loss: 0.2657 - acc: 0.9287 - val_loss: 0.3234 - val_acc: 0.9144\n",
      "Epoch 10/20\n",
      "31367/31367 [==============================] - 0s - loss: 0.2345 - acc: 0.9388 - val_loss: 0.3817 - val_acc: 0.8869\n",
      "Epoch 11/20\n",
      "31367/31367 [==============================] - 0s - loss: 0.2555 - acc: 0.9299 - val_loss: 0.2944 - val_acc: 0.9218\n",
      "Epoch 12/20\n",
      "31367/31367 [==============================] - 0s - loss: 0.2135 - acc: 0.9421 - val_loss: 0.6380 - val_acc: 0.8280\n",
      "Epoch 13/20\n",
      "31367/31367 [==============================] - 0s - loss: 0.2160 - acc: 0.9406 - val_loss: 0.2669 - val_acc: 0.9287\n",
      "Epoch 14/20\n",
      "31367/31367 [==============================] - 0s - loss: 0.1884 - acc: 0.9490 - val_loss: 0.3106 - val_acc: 0.9091\n",
      "Epoch 15/20\n",
      "31367/31367 [==============================] - 0s - loss: 0.1659 - acc: 0.9567 - val_loss: 0.4395 - val_acc: 0.8757\n",
      "Epoch 16/20\n",
      "31367/31367 [==============================] - 0s - loss: 0.1880 - acc: 0.9497 - val_loss: 0.2104 - val_acc: 0.9462\n",
      "Epoch 17/20\n",
      "31367/31367 [==============================] - 0s - loss: 0.1584 - acc: 0.9572 - val_loss: 0.2477 - val_acc: 0.9296\n",
      "Epoch 18/20\n",
      "31367/31367 [==============================] - 0s - loss: 0.1521 - acc: 0.9589 - val_loss: 0.3590 - val_acc: 0.8993\n",
      "Epoch 19/20\n",
      "31367/31367 [==============================] - 0s - loss: 0.1745 - acc: 0.9513 - val_loss: 0.2096 - val_acc: 0.9435\n",
      "Epoch 20/20\n",
      "31367/31367 [==============================] - 0s - loss: 0.1474 - acc: 0.9596 - val_loss: 0.3055 - val_acc: 0.9185\n"
     ]
    }
   ],
   "source": [
    "# Compile and train the model\n",
    "model.compile(loss='categorical_crossentropy',\n",
    "              optimizer=Adam(),\n",
    "              metrics=['accuracy'])\n",
    "\n",
    "history = model.fit(X_flat_train, y_train,\n",
    "                    batch_size = 128, nb_epoch = 20,\n",
    "                    verbose=1, validation_data=(X_flat_val, y_val))"
   ]
  },
  {
   "cell_type": "code",
   "execution_count": 11,
   "metadata": {
    "collapsed": false
   },
   "outputs": [],
   "source": [
    "# STOP: Do not change the tests below. Your implementation should pass these tests.\n",
    "assert(history.history['acc'][-1] > 0.92), \"The training accuracy was: %.3f\" % history.history['acc'][-1]\n",
    "assert(history.history['val_acc'][-1] > 0.9), \"The validation accuracy is: %.3f\" % history.history['val_acc'][-1]"
   ]
  },
  {
   "cell_type": "markdown",
   "metadata": {},
   "source": [
    "**Validation Accuracy**: 93.08%"
   ]
  },
  {
   "cell_type": "markdown",
   "metadata": {},
   "source": [
    "## Congratulations\n",
    "You've built a feedforward neural network in Keras!\n",
    "\n",
    "Don't stop here! Next, you'll add a convolutional layer to drive.py."
   ]
  },
  {
   "cell_type": "markdown",
   "metadata": {},
   "source": [
    "## Convolutions\n",
    "Build a new network, similar to your existing network. Before the hidden layer, add a 3x3 [convolutional layer](https://keras.io/layers/convolutional/#convolution2d) with 32 filters and valid padding.\n",
    "\n",
    "Then compile and train the network.\n",
    "\n",
    "Hint 1: The Keras example of a [convolutional neural network](https://github.com/fchollet/keras/blob/master/examples/mnist_cnn.py) for MNIST would be a good example to review.\n",
    "\n",
    "Hint 2: Now that the first layer of the network is a convolutional layer, you no longer need to reshape the input images before passing them to the network. You might need to reload your training data to recover the original shape.\n",
    "\n",
    "Hint 3: Add a [`Flatten()` layer](https://keras.io/layers/core/#flatten) between the convolutional layer and the fully-connected hidden layer."
   ]
  },
  {
   "cell_type": "code",
   "execution_count": 12,
   "metadata": {
    "collapsed": false
   },
   "outputs": [
    {
     "name": "stdout",
     "output_type": "stream",
     "text": [
      "____________________________________________________________________________________________________\n",
      "Layer (type)                     Output Shape          Param #     Connected to                     \n",
      "====================================================================================================\n",
      "convolution2d_1 (Convolution2D)  (None, 30, 30, 32)    896         convolution2d_input_1[0][0]      \n",
      "____________________________________________________________________________________________________\n",
      "flatten_1 (Flatten)              (None, 28800)         0           convolution2d_1[0][0]            \n",
      "____________________________________________________________________________________________________\n",
      "dense_3 (Dense)                  (None, 128)           3686528     flatten_1[0][0]                  \n",
      "____________________________________________________________________________________________________\n",
      "dense_4 (Dense)                  (None, 43)            5547        dense_3[0][0]                    \n",
      "====================================================================================================\n",
      "Total params: 3692971\n",
      "____________________________________________________________________________________________________\n",
      "Train on 31367 samples, validate on 7842 samples\n",
      "Epoch 1/5\n",
      "31367/31367 [==============================] - 3s - loss: 1.1493 - acc: 0.7027 - val_loss: 0.4385 - val_acc: 0.8773\n",
      "Epoch 2/5\n",
      "31367/31367 [==============================] - 2s - loss: 0.2722 - acc: 0.9330 - val_loss: 0.2175 - val_acc: 0.9472\n",
      "Epoch 3/5\n",
      "31367/31367 [==============================] - 2s - loss: 0.1463 - acc: 0.9654 - val_loss: 0.1912 - val_acc: 0.9503\n",
      "Epoch 4/5\n",
      "31367/31367 [==============================] - 2s - loss: 0.0990 - acc: 0.9763 - val_loss: 0.1480 - val_acc: 0.9624\n",
      "Epoch 5/5\n",
      "31367/31367 [==============================] - 2s - loss: 0.0769 - acc: 0.9820 - val_loss: 0.1545 - val_acc: 0.9626\n"
     ]
    }
   ],
   "source": [
    "# Re-construct the network and add a convolutional layer before the first fully-connected layer\n",
    "from keras.layers import Conv2D, Flatten\n",
    "\n",
    "model = Sequential()\n",
    "model.add(Conv2D(32, 3, 3, input_shape=(32, 32, 3), activation='relu'))\n",
    "model.add(Flatten())\n",
    "model.add(Dense(128, activation='relu', input_shape=(32*32*3,)))\n",
    "model.add(Dense(43, activation='softmax'))\n",
    "model.summary()\n",
    "\n",
    "# Compile and train the model here.\n",
    "model.compile(loss='categorical_crossentropy',\n",
    "              optimizer=Adam(),\n",
    "              metrics=['accuracy'])\n",
    "\n",
    "history = model.fit(X_train, y_train,\n",
    "                    batch_size=128, nb_epoch=5,\n",
    "                    verbose=1, validation_data=(X_val, y_val))"
   ]
  },
  {
   "cell_type": "code",
   "execution_count": 13,
   "metadata": {
    "collapsed": false
   },
   "outputs": [],
   "source": [
    "# STOP: Do not change the tests below. Your implementation should pass these tests.\n",
    "assert(history.history['val_acc'][-1] > 0.95), \"The validation accuracy is: %.3f\" % history.history['val_acc'][-1]"
   ]
  },
  {
   "cell_type": "markdown",
   "metadata": {},
   "source": [
    "**Validation Accuracy**: 96.63%"
   ]
  },
  {
   "cell_type": "markdown",
   "metadata": {},
   "source": [
    "## Pooling\n",
    "Re-construct your network and add a 2x2 [pooling layer](https://keras.io/layers/pooling/#maxpooling2d) immediately following your convolutional layer.\n",
    "\n",
    "Then compile and train the network."
   ]
  },
  {
   "cell_type": "code",
   "execution_count": 14,
   "metadata": {
    "collapsed": false
   },
   "outputs": [
    {
     "name": "stdout",
     "output_type": "stream",
     "text": [
      "____________________________________________________________________________________________________\n",
      "Layer (type)                     Output Shape          Param #     Connected to                     \n",
      "====================================================================================================\n",
      "convolution2d_2 (Convolution2D)  (None, 30, 30, 32)    896         convolution2d_input_2[0][0]      \n",
      "____________________________________________________________________________________________________\n",
      "maxpooling2d_1 (MaxPooling2D)    (None, 15, 15, 32)    0           convolution2d_2[0][0]            \n",
      "____________________________________________________________________________________________________\n",
      "activation_1 (Activation)        (None, 15, 15, 32)    0           maxpooling2d_1[0][0]             \n",
      "____________________________________________________________________________________________________\n",
      "flatten_2 (Flatten)              (None, 7200)          0           activation_1[0][0]               \n",
      "____________________________________________________________________________________________________\n",
      "dense_5 (Dense)                  (None, 128)           921728      flatten_2[0][0]                  \n",
      "____________________________________________________________________________________________________\n",
      "dense_6 (Dense)                  (None, 43)            5547        dense_5[0][0]                    \n",
      "====================================================================================================\n",
      "Total params: 928171\n",
      "____________________________________________________________________________________________________\n",
      "Train on 31367 samples, validate on 7842 samples\n",
      "Epoch 1/5\n",
      "31367/31367 [==============================] - 2s - loss: 1.4424 - acc: 0.6325 - val_loss: 0.6874 - val_acc: 0.7980\n",
      "Epoch 2/5\n",
      "31367/31367 [==============================] - 1s - loss: 0.3954 - acc: 0.9102 - val_loss: 0.2908 - val_acc: 0.9278\n",
      "Epoch 3/5\n",
      "31367/31367 [==============================] - 1s - loss: 0.2062 - acc: 0.9552 - val_loss: 0.2236 - val_acc: 0.9443\n",
      "Epoch 4/5\n",
      "31367/31367 [==============================] - 1s - loss: 0.1368 - acc: 0.9704 - val_loss: 0.1588 - val_acc: 0.9675\n",
      "Epoch 5/5\n",
      "31367/31367 [==============================] - 1s - loss: 0.0958 - acc: 0.9811 - val_loss: 0.1407 - val_acc: 0.9674\n"
     ]
    }
   ],
   "source": [
    "# Re-construct the network and add a pooling layer after the convolutional layer.\n",
    "from keras.layers import Conv2D, Flatten, MaxPooling2D, Activation\n",
    "\n",
    "model = Sequential()\n",
    "model.add(Conv2D(32, 3, 3, input_shape=(32, 32, 3)))\n",
    "model.add(MaxPooling2D((2,2)))\n",
    "model.add(Activation('relu'))\n",
    "model.add(Flatten())\n",
    "model.add(Dense(128, activation='relu'))\n",
    "model.add(Dense(43, activation='softmax'))\n",
    "model.summary()\n",
    "    \n",
    "# Compile and train the model here.\n",
    "model.compile(loss='categorical_crossentropy',\n",
    "              optimizer=Adam(),\n",
    "              metrics=['accuracy'])\n",
    "\n",
    "history = model.fit(X_train, y_train,\n",
    "                    batch_size=128, nb_epoch=5,\n",
    "                    verbose=1, validation_data=(X_val, y_val))"
   ]
  },
  {
   "cell_type": "code",
   "execution_count": 15,
   "metadata": {
    "collapsed": true
   },
   "outputs": [],
   "source": [
    "# STOP: Do not change the tests below. Your implementation should pass these tests.\n",
    "assert(history.history['val_acc'][-1] > 0.95), \"The validation accuracy is: %.3f\" % history.history['val_acc'][-1]"
   ]
  },
  {
   "cell_type": "markdown",
   "metadata": {},
   "source": [
    "**Validation Accuracy**: 96.30"
   ]
  },
  {
   "cell_type": "markdown",
   "metadata": {},
   "source": [
    "## Dropout\n",
    "Re-construct your network and add [dropout](https://keras.io/layers/core/#dropout) after the pooling layer. Set the dropout rate to 50%."
   ]
  },
  {
   "cell_type": "code",
   "execution_count": 16,
   "metadata": {
    "collapsed": false
   },
   "outputs": [
    {
     "name": "stdout",
     "output_type": "stream",
     "text": [
      "____________________________________________________________________________________________________\n",
      "Layer (type)                     Output Shape          Param #     Connected to                     \n",
      "====================================================================================================\n",
      "convolution2d_3 (Convolution2D)  (None, 30, 30, 32)    896         convolution2d_input_3[0][0]      \n",
      "____________________________________________________________________________________________________\n",
      "maxpooling2d_2 (MaxPooling2D)    (None, 15, 15, 32)    0           convolution2d_3[0][0]            \n",
      "____________________________________________________________________________________________________\n",
      "activation_2 (Activation)        (None, 15, 15, 32)    0           maxpooling2d_2[0][0]             \n",
      "____________________________________________________________________________________________________\n",
      "dropout_1 (Dropout)              (None, 15, 15, 32)    0           activation_2[0][0]               \n",
      "____________________________________________________________________________________________________\n",
      "flatten_3 (Flatten)              (None, 7200)          0           dropout_1[0][0]                  \n",
      "____________________________________________________________________________________________________\n",
      "dense_7 (Dense)                  (None, 128)           921728      flatten_3[0][0]                  \n",
      "____________________________________________________________________________________________________\n",
      "dense_8 (Dense)                  (None, 43)            5547        dense_7[0][0]                    \n",
      "====================================================================================================\n",
      "Total params: 928171\n",
      "____________________________________________________________________________________________________\n",
      "Train on 31367 samples, validate on 7842 samples\n",
      "Epoch 1/10\n",
      "31367/31367 [==============================] - 2s - loss: 1.5837 - acc: 0.5913 - val_loss: 0.6571 - val_acc: 0.8326\n",
      "Epoch 2/10\n",
      "31367/31367 [==============================] - 2s - loss: 0.4924 - acc: 0.8769 - val_loss: 0.3404 - val_acc: 0.9216\n",
      "Epoch 3/10\n",
      "31367/31367 [==============================] - 2s - loss: 0.3033 - acc: 0.9242 - val_loss: 0.2326 - val_acc: 0.9501\n",
      "Epoch 4/10\n",
      "31367/31367 [==============================] - 2s - loss: 0.2351 - acc: 0.9399 - val_loss: 0.1947 - val_acc: 0.9513\n",
      "Epoch 5/10\n",
      "31367/31367 [==============================] - 2s - loss: 0.1810 - acc: 0.9533 - val_loss: 0.1667 - val_acc: 0.9611\n",
      "Epoch 6/10\n",
      "31367/31367 [==============================] - 2s - loss: 0.1532 - acc: 0.9605 - val_loss: 0.1468 - val_acc: 0.9629\n",
      "Epoch 7/10\n",
      "31367/31367 [==============================] - 2s - loss: 0.1349 - acc: 0.9655 - val_loss: 0.1336 - val_acc: 0.9684\n",
      "Epoch 8/10\n",
      "31367/31367 [==============================] - 2s - loss: 0.1163 - acc: 0.9694 - val_loss: 0.1072 - val_acc: 0.9797\n",
      "Epoch 9/10\n",
      "31367/31367 [==============================] - 2s - loss: 0.1111 - acc: 0.9686 - val_loss: 0.1124 - val_acc: 0.9740\n",
      "Epoch 10/10\n",
      "31367/31367 [==============================] - 2s - loss: 0.0996 - acc: 0.9721 - val_loss: 0.1071 - val_acc: 0.9767\n"
     ]
    }
   ],
   "source": [
    "# Re-construct the network and add dropout after the pooling layer\n",
    "from keras.layers import Dropout\n",
    "\n",
    "model = Sequential()\n",
    "model.add(Conv2D(32, 3, 3, input_shape=(32, 32, 3)))\n",
    "model.add(MaxPooling2D((2,2)))\n",
    "model.add(Activation('relu'))\n",
    "model.add(Dropout(0.5))\n",
    "model.add(Flatten())\n",
    "model.add(Dense(128, activation='relu'))\n",
    "model.add(Dense(43, activation='softmax'))\n",
    "model.summary()\n",
    "\n",
    "# Compile and train the model here.\n",
    "model.compile(loss='categorical_crossentropy',\n",
    "              optimizer=Adam(),\n",
    "              metrics=['accuracy'])\n",
    "\n",
    "history = model.fit(X_train, y_train,\n",
    "                    batch_size=128, nb_epoch=10,\n",
    "                    verbose=1, validation_data=(X_val, y_val))"
   ]
  },
  {
   "cell_type": "code",
   "execution_count": 17,
   "metadata": {
    "collapsed": true
   },
   "outputs": [],
   "source": [
    "# STOP: Do not change the tests below. Your implementation should pass these tests.\n",
    "assert(history.history['val_acc'][-1] > 0.95), \"The validation accuracy is: %.3f\" % history.history['val_acc'][-1]"
   ]
  },
  {
   "cell_type": "markdown",
   "metadata": {
    "collapsed": true
   },
   "source": [
    "**Validation Accuracy**: 98.09%"
   ]
  },
  {
   "cell_type": "markdown",
   "metadata": {},
   "source": [
    "## Optimization\n",
    "Congratulations! You've built a neural network with convolutions, pooling, dropout, and fully-connected layers, all in just a few lines of code.\n",
    "\n",
    "Have fun with the model and see how well you can do! Add more layers, or regularization, or different padding, or batches, or more training epochs.\n",
    "\n",
    "What is the best validation accuracy you can achieve?"
   ]
  },
  {
   "cell_type": "code",
   "execution_count": null,
   "metadata": {
    "collapsed": true
   },
   "outputs": [],
   "source": []
  },
  {
   "cell_type": "markdown",
   "metadata": {},
   "source": [
    "**Best Validation Accuracy:** 98.09%"
   ]
  },
  {
   "cell_type": "markdown",
   "metadata": {},
   "source": [
    "## Testing\n",
    "Once you've picked out your best model, it's time to test it.\n",
    "\n",
    "Load up the test data and use the [`evaluate()` method](https://keras.io/models/model/#evaluate) to see how well it does.\n",
    "\n",
    "Hint 1: After you load your test data, don't forget to normalize the input and one-hot encode the output, so it matches the training data.\n",
    "\n",
    "Hint 2: The `evaluate()` method should return an array of numbers. Use the `metrics_names()` method to get the labels."
   ]
  },
  {
   "cell_type": "code",
   "execution_count": 19,
   "metadata": {
    "collapsed": false
   },
   "outputs": [
    {
     "name": "stdout",
     "output_type": "stream",
     "text": [
      "12630/12630 [==============================] - 0s     \n"
     ]
    },
    {
     "data": {
      "text/plain": [
       "[0.52419439991220818, 0.89580364218800201]"
      ]
     },
     "execution_count": 19,
     "metadata": {},
     "output_type": "execute_result"
    }
   ],
   "source": [
    "with open('./test.p', mode='rb') as f:\n",
    "    test = pickle.load(f)\n",
    "    \n",
    "X_test = test['features']\n",
    "y_test = test['labels']\n",
    "X_test = X_test.astype('float32')\n",
    "X_test /= 255\n",
    "X_test -= 0.5\n",
    "Y_test = np_utils.to_categorical(y_test, 43)\n",
    "\n",
    "model.evaluate(X_test, Y_test)"
   ]
  },
  {
   "cell_type": "markdown",
   "metadata": {},
   "source": [
    "**Test Accuracy:** 90.32%"
   ]
  },
  {
   "cell_type": "markdown",
   "metadata": {},
   "source": [
    "## Summary\n",
    "Keras is a great tool to use if you want to quickly build a neural network and evaluate performance."
   ]
  }
 ],
 "metadata": {
  "anaconda-cloud": {},
  "kernelspec": {
   "display_name": "Python 3",
   "language": "python",
   "name": "python3"
  },
  "language_info": {
   "codemirror_mode": {
    "name": "ipython",
    "version": 3
   },
   "file_extension": ".py",
   "mimetype": "text/x-python",
   "name": "python",
   "nbconvert_exporter": "python",
   "pygments_lexer": "ipython3",
   "version": "3.5.2"
  }
 },
 "nbformat": 4,
 "nbformat_minor": 0
}
